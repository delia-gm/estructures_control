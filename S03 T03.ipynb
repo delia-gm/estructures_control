{
 "cells": [
  {
   "cell_type": "markdown",
   "id": "9e6cb275",
   "metadata": {},
   "source": [
    "# S03 T03: Estructura de control"
   ]
  },
  {
   "cell_type": "markdown",
   "id": "9920909e",
   "metadata": {},
   "source": [
    "#### Exercici 1: L'exercici consisteix a crear un programa que et classifiqui una variable numèrica en funció de l’escala Suspès/Aprovat/Notable/Excel·lent."
   ]
  },
  {
   "cell_type": "code",
   "execution_count": 43,
   "id": "bb35106d",
   "metadata": {},
   "outputs": [
    {
     "name": "stdout",
     "output_type": "stream",
     "text": [
      "Notable\n"
     ]
    }
   ],
   "source": [
    "x = 8.5\n",
    "\n",
    "if 0 < x < 5:\n",
    "    print(\"Suspès\")\n",
    "elif 5 <= x <= 7:\n",
    "    print(\"Aprovat\")\n",
    "elif 7 < x <= 9:\n",
    "    print(\"Notable\")\n",
    "elif 9 < x <= 10: \n",
    "    print(\"Excel·lent\")\n",
    "else:\n",
    "    print('fora del rang de notes entre 0 i 10')\n",
    "        "
   ]
  },
  {
   "cell_type": "markdown",
   "id": "3a1cd05c",
   "metadata": {},
   "source": [
    "#### Exercici 2: Utilitzant el següent tutorial Programiz: Python Input, Output and Import crea un programa que et pregunti dos números. T’ha de mostrar un missatge dient si el primer és més gran, el segon és més gran o són iguals."
   ]
  },
  {
   "cell_type": "code",
   "execution_count": 53,
   "id": "f0949e85",
   "metadata": {},
   "outputs": [
    {
     "name": "stdout",
     "output_type": "stream",
     "text": [
      "Introdueix dos nombres: 99\n",
      "Els dos nombres son iguals\n"
     ]
    }
   ],
   "source": [
    "[n1, n2] = input ('Introdueix dos nombres: ')\n",
    "\n",
    "if n1 > n2:\n",
    "    print('el primer nombre és més gran que el segon')\n",
    "elif n1 == n2:\n",
    "    print('Els dos nombres son iguals')\n",
    "elif n1 < n2:\n",
    "    print('el primer nombre és més petit que el segon')"
   ]
  },
  {
   "cell_type": "markdown",
   "id": "067f05ed",
   "metadata": {},
   "source": [
    "#### Exercici 3: Crea un programa que et pregunti el teu nom, i et demani un número. Si el número és 0, hauria de mostrar un missatge d’error. En cas contrari, hauria de mostrar el nom repetit tants cops com indiqui el número. Per exemple, “Joan Joan Joan”."
   ]
  },
  {
   "cell_type": "code",
   "execution_count": 67,
   "id": "36584667",
   "metadata": {},
   "outputs": [
    {
     "name": "stdout",
     "output_type": "stream",
     "text": [
      "Quin és el teu nom? Steve\n",
      "Tria un número: 4\n",
      "Steve Steve Steve Steve \n"
     ]
    }
   ],
   "source": [
    "nom = input('Quin és el teu nom? ')\n",
    "num = input('Tria un número: ')\n",
    "\n",
    "if num == 0:\n",
    "    print('Error, el nombre ha de ser major que 0')\n",
    "else:\n",
    "    print ((nom + ' ') * int(num))\n"
   ]
  },
  {
   "cell_type": "markdown",
   "id": "4c19e573",
   "metadata": {},
   "source": [
    "#### Exercici 4: Crea un programa que donada una llista qualsevol, et digui si es simètrica o no. Si ho és, que et digui quants elements té."
   ]
  },
  {
   "cell_type": "code",
   "execution_count": 176,
   "id": "8b8827d1",
   "metadata": {},
   "outputs": [],
   "source": [
    "def simetric (L):\n",
    "    for i in range(0, len(L)):\n",
    "        if L[i] == L[-1 - i]:\n",
    "            return ('és simètrica i té ' + str(len(L)) + ' elements')\n",
    "        else:\n",
    "            return('no és simètrica')"
   ]
  },
  {
   "cell_type": "code",
   "execution_count": 169,
   "id": "4f7639b5",
   "metadata": {},
   "outputs": [
    {
     "data": {
      "text/plain": [
       "'és simètrica i té 9 elements'"
      ]
     },
     "execution_count": 169,
     "metadata": {},
     "output_type": "execute_result"
    }
   ],
   "source": [
    "# provem la funció en una llista simètrica:\n",
    "\n",
    "l1 = [1, 2, 3, 4, 0, 4, 3, 2, 1]\n",
    "simetric(l1)"
   ]
  },
  {
   "cell_type": "code",
   "execution_count": 177,
   "id": "b70a293f",
   "metadata": {},
   "outputs": [
    {
     "data": {
      "text/plain": [
       "'no és simètrica'"
      ]
     },
     "execution_count": 177,
     "metadata": {},
     "output_type": "execute_result"
    }
   ],
   "source": [
    "# provem la funció en una llista NO simètrica:\n",
    "\n",
    "l2 = [1, 2, 3, 4, 5, 6, 7]\n",
    "simetric (l2)"
   ]
  },
  {
   "cell_type": "markdown",
   "id": "a3fd365a",
   "metadata": {},
   "source": [
    "#### Exercici 5: Crea un programa que donada una llista, et digui quants números coincideixen amb la seva posició. "
   ]
  },
  {
   "cell_type": "code",
   "execution_count": 174,
   "id": "d408ad2e",
   "metadata": {},
   "outputs": [
    {
     "name": "stdout",
     "output_type": "stream",
     "text": [
      "Els números que coincideixen amb la seva posició son: [2, 5, 6]\n"
     ]
    }
   ],
   "source": [
    "llista = [1, 3, 2, 0, 2, 5, 6]\n",
    "\n",
    "coincidents = []\n",
    "for i in range(0, len(llista)):\n",
    "    if llista[i] == i:\n",
    "        coincidents.append(i)\n",
    "        \n",
    "print('Els números que coincideixen amb la seva posició son: ' + str(coincidents))"
   ]
  }
 ],
 "metadata": {
  "kernelspec": {
   "display_name": "Python 3",
   "language": "python",
   "name": "python3"
  },
  "language_info": {
   "codemirror_mode": {
    "name": "ipython",
    "version": 3
   },
   "file_extension": ".py",
   "mimetype": "text/x-python",
   "name": "python",
   "nbconvert_exporter": "python",
   "pygments_lexer": "ipython3",
   "version": "3.8.8"
  },
  "latex_envs": {
   "LaTeX_envs_menu_present": true,
   "autoclose": false,
   "autocomplete": true,
   "bibliofile": "biblio.bib",
   "cite_by": "apalike",
   "current_citInitial": 1,
   "eqLabelWithNumbers": true,
   "eqNumInitial": 1,
   "hotkeys": {
    "equation": "Ctrl-E",
    "itemize": "Ctrl-I"
   },
   "labels_anchors": false,
   "latex_user_defs": false,
   "report_style_numbering": false,
   "user_envs_cfg": false
  }
 },
 "nbformat": 4,
 "nbformat_minor": 5
}
